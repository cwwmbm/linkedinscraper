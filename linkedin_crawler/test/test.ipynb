{
 "cells": [
  {
   "cell_type": "code",
   "execution_count": 3,
   "metadata": {},
   "outputs": [
    {
     "ename": "ModuleNotFoundError",
     "evalue": "No module named 'langgraph'",
     "output_type": "error",
     "traceback": [
      "\u001b[1;31m---------------------------------------------------------------------------\u001b[0m",
      "\u001b[1;31mModuleNotFoundError\u001b[0m                       Traceback (most recent call last)",
      "Cell \u001b[1;32mIn[3], line 4\u001b[0m\n\u001b[0;32m      2\u001b[0m \u001b[38;5;28;01mfrom\u001b[39;00m \u001b[38;5;21;01mtyping\u001b[39;00m \u001b[38;5;28;01mimport\u001b[39;00m Annotated, List, TypedDict, Literal\n\u001b[0;32m      3\u001b[0m \u001b[38;5;28;01mfrom\u001b[39;00m \u001b[38;5;21;01mlangchain_core\u001b[39;00m\u001b[38;5;21;01m.\u001b[39;00m\u001b[38;5;21;01mmessages\u001b[39;00m \u001b[38;5;28;01mimport\u001b[39;00m AnyMessage, HumanMessage, SystemMessage, RemoveMessage\n\u001b[1;32m----> 4\u001b[0m \u001b[38;5;28;01mfrom\u001b[39;00m \u001b[38;5;21;01mlanggraph\u001b[39;00m\u001b[38;5;21;01m.\u001b[39;00m\u001b[38;5;21;01mgraph\u001b[39;00m \u001b[38;5;28;01mimport\u001b[39;00m add_messages\n\u001b[0;32m      6\u001b[0m llm \u001b[38;5;241m=\u001b[39m ChatOllama(model\u001b[38;5;241m=\u001b[39m\u001b[38;5;124m\"\u001b[39m\u001b[38;5;124mllama3.2\u001b[39m\u001b[38;5;124m\"\u001b[39m)\n\u001b[0;32m      8\u001b[0m \u001b[38;5;28;01mclass\u001b[39;00m \u001b[38;5;21;01mState\u001b[39;00m(TypedDict):\n",
      "\u001b[1;31mModuleNotFoundError\u001b[0m: No module named 'langgraph'"
     ]
    }
   ],
   "source": [
    "from langchain_ollama import ChatOllama\n",
    "from typing import Annotated, List, TypedDict, Literal\n",
    "from langchain_core.messages import AnyMessage, HumanMessage, SystemMessage, RemoveMessage\n",
    "from langgraph.graph import add_messages\n",
    "\n",
    "llm = ChatOllama(model=\"llama3.2\")\n",
    "\n",
    "class State(TypedDict):\n",
    "    messages: Annotated[List[AnyMessage], add_messages]\n",
    "    summary: str\n",
    "    \n",
    "    \n",
    "def generate_strings(state):\n",
    "    response = llm.invoke(state[\"messages\"])\n",
    "    \n",
    "    return {\n",
    "        \"messages\": [response],\n",
    "    }\n",
    "    \n",
    "def summary_node(state):\n",
    "    sys_msg = \"\"\"You are an agent that summarizes the following conversation. The summary should provide a concise overview of the conversation's main points.\"\"\"\n",
    "    \n",
    "    response = llm.invoke([SystemMessage(content=sys_msg)] + state[\"messages\"])\n",
    "    delete_messages =  [RemoveMessage(id=m.id) for m in state[\"messages\"][:-2]]\n",
    "    \n",
    "    print(f\"******** Summary: {response.content} ****\")\n",
    "    return {\n",
    "        \"summary\": response.content,\n",
    "        \"messages\": [response] + delete_messages \n",
    "    }\n",
    "    \n",
    "def check_message_length(state) -> Literal['summary_node', '__end__']:\n",
    "    if len(state[\"messages\"]) > 4:\n",
    "        return 'summary_node'\n",
    "    \n",
    "    return '__end__'"
   ]
  },
  {
   "cell_type": "code",
   "execution_count": null,
   "metadata": {},
   "outputs": [
    {
     "data": {
      "image/png": "[encoded data removed]",
      "text/plain": [
       "<IPython.core.display.Image object>"
      ]
     },
     "metadata": {},
     "output_type": "display_data"
    }
   ],
   "source": [
    "from langgraph.graph import StateGraph, START, END\n",
    "from langgraph.checkpoint.memory import MemorySaver\n",
    "\n",
    "builder = StateGraph(State)\n",
    "builder.add_node(generate_strings)\n",
    "builder.add_node(summary_node)\n",
    "\n",
    "builder.add_edge(START, 'generate_strings')\n",
    "builder.add_conditional_edges('generate_strings', check_message_length)\n",
    "builder.add_edge('summary_node', END)\n",
    "\n",
    "graph = builder.compile(checkpointer=MemorySaver())\n",
    "\n",
    "\n",
    "from IPython.display import display, Image\n",
    "\n",
    "display(Image(graph.get_graph().draw_mermaid_png()))"
   ]
  },
  {
   "cell_type": "code",
   "execution_count": 3,
   "metadata": {},
   "outputs": [
    {
     "name": "stdout",
     "output_type": "stream",
     "text": [
      "==================================\u001b[1m Ai Message \u001b[0m==================================\n",
      "\n",
      "Data science is an exciting and rapidly growing field with numerous job opportunities.\n",
      "\n",
      "To get started, can you tell me a bit more about your background and what you're looking for in a role? For example:\n",
      "\n",
      "* Do you have any prior experience in data science or related fields like statistics, computer science, or engineering?\n",
      "* What specific areas of data science are you interested in (e.g. machine learning, data visualization, predictive modeling)?\n",
      "* Are you looking for an entry-level position or something more senior?\n",
      "* Do you have a preferred industry or company in mind?\n",
      "\n",
      "Also, I can offer some general advice:\n",
      "\n",
      "1. **Update your skills**: Make sure you have the necessary skills for a data scientist role, such as proficiency in programming languages like Python, R, or SQL, and experience with machine learning libraries like scikit-learn, TensorFlow, or PyTorch.\n",
      "2. **Build a portfolio**: Create a portfolio that showcases your projects and accomplishments in data science. This can include datasets you've worked on, code repositories, or publications.\n",
      "3. **Network**: Attend industry events, join online communities (e.g. Kaggle, Reddit's r/MachineLearning), or connect with professionals in the field to learn about job opportunities and best practices.\n",
      "\n",
      "Let me know if you'd like more specific advice or guidance!\n",
      "==================================\u001b[1m Ai Message \u001b[0m==================================\n",
      "\n",
      "I'm just a language model, so I don't have emotions or feelings like humans do, but I'm functioning properly and ready to help you with any questions or topics you'd like to discuss!\n",
      "\n",
      "It's great that you're looking for a job in data science - it's an exciting field with many opportunities for growth and learning. What can I help you with today? Do you have any specific questions about getting started in data science, or would you like some general advice on your job search?\n",
      "******** Summary:  ****\n",
      "==================================\u001b[1m Ai Message \u001b[0m==================================\n",
      "******** Summary:  ****\n",
      "==================================\u001b[1m Ai Message \u001b[0m==================================\n",
      "******** Summary:  ****\n",
      "==================================\u001b[1m Ai Message \u001b[0m==================================\n"
     ]
    }
   ],
   "source": [
    "config = {\"configurable\": {\"thread_id\": \"1\"}}\n",
    "input_msg = \"Hi, I'm looking for a job in data science.\"\n",
    "state = {\"messages\": [HumanMessage(content=input_msg)], \"summary\": \"\"}\n",
    "result = graph.invoke(state, config=config)\n",
    "result[\"messages\"][-1].pretty_print()\n",
    "\n",
    "while True:\n",
    "    input_msg = input(\"Enter a message: \")\n",
    "    if input_msg.lower() == \"q\":\n",
    "        break\n",
    "    state = {\"messages\": [HumanMessage(content=input_msg)]}\n",
    "    result = graph.invoke(state, config)\n",
    "    result[\"messages\"][-1].pretty_print()\n",
    "\n",
    "\n"
   ]
  }
 ],
 "metadata": {
  "kernelspec": {
   "display_name": ".venv",
   "language": "python",
   "name": "python3"
  },
  "language_info": {
   "codemirror_mode": {
    "name": "ipython",
    "version": 3
   },
   "file_extension": ".py",
   "mimetype": "text/x-python",
   "name": "python",
   "nbconvert_exporter": "python",
   "pygments_lexer": "ipython3",
   "version": "3.12.8"
  }
 },
 "nbformat": 4,
 "nbformat_minor": 2
}
