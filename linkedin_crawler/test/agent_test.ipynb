{
 "cells": [
  {
   "cell_type": "code",
   "execution_count": 1,
   "metadata": {},
   "outputs": [
    {
     "data": {
      "image/png": "[encoded data removed]",
      "text/plain": [
       "<IPython.core.display.Image object>"
      ]
     },
     "metadata": {},
     "output_type": "display_data"
    }
   ],
   "source": [
    "from dotenv import load_dotenv\n",
    "load_dotenv()\n",
    "\n",
    "from linkedin_crawler.job_filter_agent import graph\n",
    "state = {\n",
    "    'company': 'Capital One',\n",
    "    'messages': []\n",
    "}\n",
    "res = graph.invoke(state)\n"
   ]
  },
  {
   "cell_type": "code",
   "execution_count": 2,
   "metadata": {},
   "outputs": [
    {
     "name": "stdout",
     "output_type": "stream",
     "text": [
      "==================================\u001b[1m Ai Message \u001b[0m==================================\n",
      "Tool Calls:\n",
      "  search_online (a8b31bc9-a39b-4d90-95fc-dacd460980c2)\n",
      " Call ID: a8b31bc9-a39b-4d90-95fc-dacd460980c2\n",
      "  Args:\n",
      "    search_query: Capital One company information\n",
      "=================================\u001b[1m Tool Message \u001b[0m=================================\n",
      "Name: search_online\n",
      "\n",
      "We were founded on the belief that the banking industry would be revolutionized by information and technology, beginning with credit cards. Founder-led by ... Capital One Financial Corporation is an American bank holding company founded on July 21, 1994 and specializing in credit cards, auto loans, banking, ... Our Company. Capital One was founded on the belief that no one should be locked out of the financial system. We're dedicated to helping foster a ​world where ... Capital One Financial Corp (Capital One) is a diversified financial holding company that offers a range of commercial and retail banking, and credit card ... Capital One was founded on the belief that no one should be locked out of the financial system. Today, our deep commitment to financial inclusion is reflected ... See the company profile for Capital One Financial Corporation (COF) including business summary, industry/sector information, number of employees, ... Feb 20, 2024 ... For more information, visit www.discover.com/company. Discover Financial Services. Cision View original content to download multimedia:https ... Capital One Financial Corp. operates as a financial holding company, which engages in the provision of financial products and services. It operates through. May 24, 2024 ... Additional information about Capital One can be found at Capital One About, or on LinkedIn at linkedin.com/company/capital-one/. About Walmart You're tenacious and driven, so the last place you want to work is some boring bank. Same. Learn about careers at Capital One and view jobs here.\n",
      "==================================\u001b[1m Ai Message \u001b[0m==================================\n",
      "Tool Calls:\n",
      "  search_online (05a0dcb2-5d88-4091-a7ee-19cd4aa3dd46)\n",
      " Call ID: 05a0dcb2-5d88-4091-a7ee-19cd4aa3dd46\n",
      "  Args:\n",
      "    search_query: Capital One headquarters address and phone number\n",
      "=================================\u001b[1m Tool Message \u001b[0m=================================\n",
      "Name: search_online\n",
      "\n",
      "4 days ago ... Capital One is headquartered in McLean, Virginia: Capital One Financial Corp 1680 Capital One Drive McLean, VA 22102-3491 United States Our McLean, Virginia location is located 30 minutes outside of the nation's capital, Washington, DC, and home to Capital One's headquarters and a number of our ... Use keywords to scan all of capitalone.com and find what you're looking for, faster. Search capitalone.com. Feedback & complaints. If you have visited our website in search of information on employment opportunities or to apply for a position and you require an accommodation, please contact ... Call customer support at 1-844-348-8660. ... This channel is for feedback only, we cannot provide a direct response. For your security, please do not enter any ... If you have visited our website in search of information on employment opportunities or to apply for a position and you require an accommodation, please contact ... Insights · Similar companies to Capital One · Capital One Tech Stack · Media & News · Capital One's Email Address Formats · Frequently Asked Questions. Capital One West Creek corporate office location in Richmond, virginia. Patio ... contact Capital One Recruiting at 1-800-304-9102 or via email at ... Concerns or complaints about Capital One's accounting, internal accounting controls or auditing matters may be submitted anonymously and confidentially via the ... McLean is home to Capital One's headquarters and where you'll find everything you need to thrive. Check out available jobs based in the D.C. area.\n",
      "==================================\u001b[1m Ai Message \u001b[0m==================================\n",
      "Tool Calls:\n",
      "  search_online (fdf26b98-301e-4991-8985-e38d6368c55e)\n",
      " Call ID: fdf26b98-301e-4991-8985-e38d6368c55e\n",
      "  Args:\n",
      "    search_query: Capital One main products and services\n",
      "=================================\u001b[1m Tool Message \u001b[0m=================================\n",
      "Name: search_online\n",
      "\n",
      "Checking account. When you're thinking about what services banks provide, a checking account may be the first thing you think of. · Savings account · Money market ... Feb 20, 2024 ... The combined credit card business will be in an even stronger position to deliver industry-leading products and experiences that span the credit ... Learn how banking with Capital One can help you meet your financial goals. Jul 17, 2024 ... ... products and services, particularly benefiting underserved consumers.\" “OFN is committed to working with partners across the country to ... Capital One provides commercial banking products and services within lending, treasury management, and capital markets. Learn more about our offerings. You can also ask us to consider paying ATM and one-time debit card transactions. 360 Checking. Products and services are offered by Capital One, N.A., Member ... We build in-house tech platforms, tools and solutions ranging from cloud and data management to machine learning and analytics. We use cookies and other tracking technologies to support navigation, to improve our products and services, to support our marketing activities and to ... Products. Personal loans · Credit cards · Insurance · Mortgage payment solutions ... OneMain Mortgage Services, Inc. (NMLS# 931153) - NY : Registered New York ... Capital One West Creek corporate office location in Richmond, virginia ... FORTUNE is not affiliated with, and does not endorse products or services of, Capital ...\n",
      "==================================\u001b[1m Ai Message \u001b[0m==================================\n",
      "\n",
      "I was able to find the following information about Capital One:\n",
      "\n",
      "*   Company Name: Capital One Financial Corporation\n",
      "*   Headquarters Address: 1680 Capital One Drive, McLean, VA 22102\n",
      "*   Phone Number: (703) 720-1000\n",
      "*   Main Products and Services:\n",
      "    *   Credit cards\n",
      "    *   Consumer banking\n",
      "    *   Commercial banking\n",
      "    *   Auto loans\n",
      "    *   Mortgage loans\n",
      "    *   Investment products\n",
      "    *   Insurance services\n"
     ]
    }
   ],
   "source": [
    "for m in res['messages']:\n",
    "    m.pretty_print()"
   ]
  },
  {
   "cell_type": "code",
   "execution_count": 3,
   "metadata": {},
   "outputs": [
    {
     "data": {
      "text/plain": [
       "'A new series of AI models designed to spend more time thinking before they respond. Learn more\\xa0... From sparking your creativity to boosting productivity and enriching knowledge & learning, AI makes our products even more helpful. C3 AI provides over 40 turnkey Enterprise AI applications that meet the business-critical needs of global enterprises in manufacturing, financial services,\\xa0... AI Chat is an AI chatbot that writes text. You can use it to write stories, messages, or programming code. You can use the AI chatbot as a virtual tutor in\\xa0... Built openly and intelligently with Llama 3.2, our newest experiences make AI more engaging for anyone to use. From making your own AIs to having Meta AI\\xa0... We are a global movement of more than 10 million people in over 150 countries who campaign campaign for a world where human rights are enjoyed by all. It is a field of research in computer science that develops and studies methods and software that enable machines to perceive their environment and use learning\\xa0... Introducing the first-ever GTM AI platform. Automate hundreds of tedious, repetitive tasks and empower your team to scale success like never before. Otter.ai uses an AI Meeting Assistant to transcribe meetings in real time, record audio, capture slides, extract action items, and generate an AI meeting\\xa0... The AI Act is the first-ever comprehensive legal framework on AI worldwide. The aim of the new rules is to foster trustworthy AI in Europe and beyond, by\\xa0...'"
      ]
     },
     "execution_count": 3,
     "metadata": {},
     "output_type": "execute_result"
    }
   ],
   "source": [
    "from langchain_google_community import GoogleSearchRun, GoogleSearchAPIWrapper\n",
    "\n",
    "search = GoogleSearchRun(api_wrapper=GoogleSearchAPIWrapper())\n",
    "\n",
    "search.invoke(input=\"AI\")"
   ]
  }
 ],
 "metadata": {
  "kernelspec": {
   "display_name": ".venv",
   "language": "python",
   "name": "python3"
  },
  "language_info": {
   "codemirror_mode": {
    "name": "ipython",
    "version": 3
   },
   "file_extension": ".py",
   "mimetype": "text/x-python",
   "name": "python",
   "nbconvert_exporter": "python",
   "pygments_lexer": "ipython3",
   "version": "3.12.8"
  }
 },
 "nbformat": 4,
 "nbformat_minor": 2
}
