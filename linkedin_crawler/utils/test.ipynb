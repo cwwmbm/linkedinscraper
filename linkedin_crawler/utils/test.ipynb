{
 "cells": [
  {
   "cell_type": "code",
   "execution_count": 4,
   "metadata": {},
   "outputs": [],
   "source": [
    "test_msg = \"\"\"\n",
    "Based on the search results, here is the company information of Capital One:\n",
    "\n",
    "{\n",
    "  \"company\": \"Capital One\",\n",
    "  \"address\": \"1680 Capital One Drive, McLean, VA 22102\",\n",
    "  \"phone_number\": \"(703) 720-1000\",\n",
    "  \"main_products\": [\n",
    "    {\n",
    "      \"name\": \"Credit Cards\",\n",
    "      \"description\": \"Capital One offers a range of credit cards with various rewards programs, including cashback, travel, and dining. Their credit cards are known for having no foreign transaction fees and offering competitive interest rates.\",\n",
    "      \"use_cases\": [\n",
    "        \"Personal finance\",\n",
    "        \"Travel\",\n",
    "        \"Dining\"\n",
    "      ]\n",
    "    },\n",
    "    {\n",
    "      \"name\": \"Banking Services\",\n",
    "      \"description\": \"Capital One provides a range of banking services, including checking and savings accounts, CDs, and money market accounts. They also offer online banking and mobile banking apps for easy account management.\",\n",
    "      \"use_cases\": [\n",
    "        \"Personal finance\",\n",
    "        \"Small business\"\n",
    "      ]\n",
    "    }\n",
    "  ]\n",
    "}\n",
    "\n",
    "Note: The information provided is based on the search results and may not be comprehensive or up-to-date.\"\"\""
   ]
  },
  {
   "cell_type": "code",
   "execution_count": 5,
   "metadata": {},
   "outputs": [],
   "source": [
    "from linkedin_crawler.utils.utils import extract_json\n",
    "\n",
    "res = extract_json(test_msg)"
   ]
  },
  {
   "cell_type": "code",
   "execution_count": 6,
   "metadata": {},
   "outputs": [
    {
     "data": {
      "text/plain": [
       "dict_keys(['company', 'address', 'phone_number', 'main_products'])"
      ]
     },
     "execution_count": 6,
     "metadata": {},
     "output_type": "execute_result"
    }
   ],
   "source": [
    "res.keys()"
   ]
  }
 ],
 "metadata": {
  "kernelspec": {
   "display_name": ".venv",
   "language": "python",
   "name": "python3"
  },
  "language_info": {
   "codemirror_mode": {
    "name": "ipython",
    "version": 3
   },
   "file_extension": ".py",
   "mimetype": "text/x-python",
   "name": "python",
   "nbconvert_exporter": "python",
   "pygments_lexer": "ipython3",
   "version": "3.12.8"
  }
 },
 "nbformat": 4,
 "nbformat_minor": 2
}
