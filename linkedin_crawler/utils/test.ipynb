{
 "cells": [
  {
   "cell_type": "code",
   "execution_count": null,
   "metadata": {},
   "outputs": [],
   "source": [
    "test_msg = \"\"\"\n",
    "Based on the provided job description and candidate profile, here's a detailed job matching assessment:\n",
    "\n",
    "```json\n",
    "{\n",
    "    \"match_percentage\": 85,\n",
    "    \"overall_assessment\": \"The candidate has a strong foundation in software development, AI, and cloud technologies, making them a good fit for the AI Engineer role at Weights & Biases. While there are some skill gaps, the candidate's eagerness to learn and work on innovative projects aligns with the company's mission and values.\",\n",
    "    \"matched_skills\": [\n",
    "        {\n",
    "            \"skill\": \"Python\",\n",
    "            \"relevanceLevel\": \"High\",\n",
    "            \"details\": \"The candidate has experience with Python, which is a primary language used in the role.\"\n",
    "        },\n",
    "        {\n",
    "            \"skill\": \"JavaScript\",\n",
    "            \"relevanceLevel\": \"High\",\n",
    "            \"details\": \"The candidate has experience with JavaScript, which is also used in the role.\"\n",
    "        },\n",
    "        {\n",
    "            \"skill\": \"AI Agent Development\",\n",
    "            \"relevanceLevel\": \"High\",\n",
    "            \"details\": \"The candidate has experience with AI agent development, which is relevant to the role's focus on GenAI.\"\n",
    "        },\n",
    "        {\n",
    "            \"skill\": \"Large Language Models (LLMs)\",\n",
    "            \"relevanceLevel\": \"High\",\n",
    "            \"details\": \"The candidate has experience with LLMs, which is a key technology used in the role.\"\n",
    "        },\n",
    "        {\n",
    "            \"skill\": \"Cloud & DevOps\",\n",
    "            \"relevanceLevel\": \"Medium\",\n",
    "            \"details\": \"The candidate has experience with AWS, Docker, and Kubernetes, which is relevant to the role's cloud-based work environment.\"\n",
    "        }\n",
    "    ],\n",
    "    \"skill_gaps\": [\n",
    "        {\n",
    "            \"missingSkill\": \"Transformers\",\n",
    "            \"criticality\": \"High\",\n",
    "            \"recommendations\": \"The candidate should focus on learning Transformers, as it is a crucial library for GenAI development.\"\n",
    "        },\n",
    "        {\n",
    "            \"missingSkill\": \"PyTorch\",\n",
    "            \"criticality\": \"High\",\n",
    "            \"recommendations\": \"The candidate should focus on learning PyTorch, as it is a key framework used in the role.\"\n",
    "        },\n",
    "        {\n",
    "            \"missingSkill\": \"Numpy and Pandas\",\n",
    "            \"criticality\": \"Medium\",\n",
    "            \"recommendations\": \"The candidate should review Numpy and Pandas to improve their data manipulation and analysis skills.\"\n",
    "        }\n",
    "    ],\n",
    "    \"recommended_next_steps\": [\n",
    "        \"The candidate should review the job description and requirements to ensure they understand the role's expectations.\",\n",
    "        \"The candidate should focus on learning Transformers, PyTorch, and reviewing Numpy and Pandas to address the identified skill gaps.\",\n",
    "        \"The candidate should prepare to discuss their experience with AI agent development, LLMs, and cloud technologies during the interview process.\"\n",
    "    ]\n",
    "}\n",
    "```\n",
    "\n",
    "This assessment highlights the candidate's strengths in software development, AI, and cloud technologies, while also identifying key skill gaps that need to be addressed. By focusing on learning Transformers, PyTorch, and reviewing Numpy and Pandas, the candidate can improve their chances of success in the AI Engineer role at Weights & Biases.\n",
    "\"\"\""
   ]
  },
  {
   "cell_type": "code",
   "execution_count": 3,
   "metadata": {},
   "outputs": [],
   "source": [
    "from linkedin_crawler.utils.utils import extract_json\n",
    "\n",
    "res = extract_json(test_msg)"
   ]
  },
  {
   "cell_type": "code",
   "execution_count": 6,
   "metadata": {},
   "outputs": [
    {
     "data": {
      "text/plain": [
       "dict_keys(['match_percentage', 'overall_assessment', 'matched_skills', 'skill_gaps', 'recommendedNextSteps'])"
      ]
     },
     "execution_count": 6,
     "metadata": {},
     "output_type": "execute_result"
    }
   ],
   "source": [
    "res.keys()"
   ]
  }
 ],
 "metadata": {
  "kernelspec": {
   "display_name": ".venv",
   "language": "python",
   "name": "python3"
  },
  "language_info": {
   "codemirror_mode": {
    "name": "ipython",
    "version": 3
   },
   "file_extension": ".py",
   "mimetype": "text/x-python",
   "name": "python",
   "nbconvert_exporter": "python",
   "pygments_lexer": "ipython3",
   "version": "3.12.8"
  }
 },
 "nbformat": 4,
 "nbformat_minor": 2
}
