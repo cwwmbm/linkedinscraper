{
 "cells": [
  {
   "cell_type": "code",
   "execution_count": 11,
   "metadata": {},
   "outputs": [],
   "source": [
    "import pandas as pd\n",
    "import sqlite3\n",
    "\n",
    "conn = sqlite3.connect('data/my_database.db')\n",
    "\n",
    "df = pd.read_sql_query(\"SELECT * FROM jobs WHERE DATE(date_loaded) = DATE('now')\", conn)\n"
   ]
  },
  {
   "cell_type": "code",
   "execution_count": 12,
   "metadata": {},
   "outputs": [
    {
     "data": {
      "text/html": [
       "<div>\n",
       "<style scoped>\n",
       "    .dataframe tbody tr th:only-of-type {\n",
       "        vertical-align: middle;\n",
       "    }\n",
       "\n",
       "    .dataframe tbody tr th {\n",
       "        vertical-align: top;\n",
       "    }\n",
       "\n",
       "    .dataframe thead th {\n",
       "        text-align: right;\n",
       "    }\n",
       "</style>\n",
       "<table border=\"1\" class=\"dataframe\">\n",
       "  <thead>\n",
       "    <tr style=\"text-align: right;\">\n",
       "      <th></th>\n",
       "      <th>id</th>\n",
       "      <th>title</th>\n",
       "      <th>company</th>\n",
       "      <th>location</th>\n",
       "      <th>date</th>\n",
       "      <th>job_url</th>\n",
       "      <th>job_description</th>\n",
       "      <th>applied</th>\n",
       "      <th>hidden</th>\n",
       "      <th>interview</th>\n",
       "      <th>rejected</th>\n",
       "      <th>date_loaded</th>\n",
       "      <th>address</th>\n",
       "      <th>phone_number</th>\n",
       "      <th>main_products</th>\n",
       "      <th>match_percentage</th>\n",
       "      <th>overall_assessment</th>\n",
       "      <th>recommended_next_steps</th>\n",
       "      <th>matched_skills</th>\n",
       "      <th>skill_gaps</th>\n",
       "    </tr>\n",
       "  </thead>\n",
       "  <tbody>\n",
       "    <tr>\n",
       "      <th>0</th>\n",
       "      <td>1</td>\n",
       "      <td>Data Scientist</td>\n",
       "      <td>DKMRBH Inc</td>\n",
       "      <td>McLean, VA</td>\n",
       "      <td>2024-12-10</td>\n",
       "      <td>https://www.linkedin.com/jobs/view/4096142669/</td>\n",
       "      <td>DKMRBH Inc. is currently seeking a - \\nData Sc...</td>\n",
       "      <td>0</td>\n",
       "      <td>0</td>\n",
       "      <td>0</td>\n",
       "      <td>0</td>\n",
       "      <td>2024-12-10 15:29:33.754232</td>\n",
       "      <td>None</td>\n",
       "      <td>None</td>\n",
       "      <td>None</td>\n",
       "      <td>60</td>\n",
       "      <td>Moderate alignment with job requirements, with...</td>\n",
       "      <td>['Acquire experience in TensorFlow and PyTorch...</td>\n",
       "      <td>[{'skill': 'Python', 'criticality': 'High'}, {...</td>\n",
       "      <td>[{'skill': 'TensorFlow and PyTorch', 'critical...</td>\n",
       "    </tr>\n",
       "    <tr>\n",
       "      <th>1</th>\n",
       "      <td>2</td>\n",
       "      <td>Data Scientist</td>\n",
       "      <td>Droisys</td>\n",
       "      <td>McLean, VA</td>\n",
       "      <td>2024-12-09</td>\n",
       "      <td>https://www.linkedin.com/jobs/view/4095427159/</td>\n",
       "      <td>About Company\\nDroisys is an innovation techno...</td>\n",
       "      <td>0</td>\n",
       "      <td>0</td>\n",
       "      <td>0</td>\n",
       "      <td>0</td>\n",
       "      <td>2024-12-10 15:29:33.754232</td>\n",
       "      <td>None</td>\n",
       "      <td>None</td>\n",
       "      <td>None</td>\n",
       "      <td>60</td>\n",
       "      <td>Moderate match with some skill gaps</td>\n",
       "      <td>['Acquire skills in R, SAS, or MATLAB', 'Devel...</td>\n",
       "      <td>[{'skill': 'Python', 'criticality': 'High'}, {...</td>\n",
       "      <td>[{'skill': 'R, SAS, or MATLAB', 'criticality':...</td>\n",
       "    </tr>\n",
       "  </tbody>\n",
       "</table>\n",
       "</div>"
      ],
      "text/plain": [
       "   id           title     company    location        date  \\\n",
       "0   1  Data Scientist  DKMRBH Inc  McLean, VA  2024-12-10   \n",
       "1   2  Data Scientist     Droisys  McLean, VA  2024-12-09   \n",
       "\n",
       "                                          job_url  \\\n",
       "0  https://www.linkedin.com/jobs/view/4096142669/   \n",
       "1  https://www.linkedin.com/jobs/view/4095427159/   \n",
       "\n",
       "                                     job_description  applied  hidden  \\\n",
       "0  DKMRBH Inc. is currently seeking a - \\nData Sc...        0       0   \n",
       "1  About Company\\nDroisys is an innovation techno...        0       0   \n",
       "\n",
       "   interview  rejected                 date_loaded address phone_number  \\\n",
       "0          0         0  2024-12-10 15:29:33.754232    None         None   \n",
       "1          0         0  2024-12-10 15:29:33.754232    None         None   \n",
       "\n",
       "  main_products match_percentage  \\\n",
       "0          None               60   \n",
       "1          None               60   \n",
       "\n",
       "                                  overall_assessment  \\\n",
       "0  Moderate alignment with job requirements, with...   \n",
       "1                Moderate match with some skill gaps   \n",
       "\n",
       "                              recommended_next_steps  \\\n",
       "0  ['Acquire experience in TensorFlow and PyTorch...   \n",
       "1  ['Acquire skills in R, SAS, or MATLAB', 'Devel...   \n",
       "\n",
       "                                      matched_skills  \\\n",
       "0  [{'skill': 'Python', 'criticality': 'High'}, {...   \n",
       "1  [{'skill': 'Python', 'criticality': 'High'}, {...   \n",
       "\n",
       "                                          skill_gaps  \n",
       "0  [{'skill': 'TensorFlow and PyTorch', 'critical...  \n",
       "1  [{'skill': 'R, SAS, or MATLAB', 'criticality':...  "
      ]
     },
     "execution_count": 12,
     "metadata": {},
     "output_type": "execute_result"
    }
   ],
   "source": [
    "df"
   ]
  },
  {
   "cell_type": "code",
   "execution_count": null,
   "metadata": {},
   "outputs": [
    {
     "data": {
      "text/plain": [
       "[('jobs',), ('sqlite_sequence',), ('filtered_jobs',)]"
      ]
     },
     "execution_count": 11,
     "metadata": {},
     "output_type": "execute_result"
    }
   ],
   "source": [
    "cursor = conn.cursor()\n",
    "cursor.execute(\"SELECT name FROM sqlite_master WHERE type='table'\")\n",
    "\n",
    "cursor.fetchall()"
   ]
  }
 ],
 "metadata": {
  "kernelspec": {
   "display_name": ".venv",
   "language": "python",
   "name": "python3"
  },
  "language_info": {
   "codemirror_mode": {
    "name": "ipython",
    "version": 3
   },
   "file_extension": ".py",
   "mimetype": "text/x-python",
   "name": "python",
   "nbconvert_exporter": "python",
   "pygments_lexer": "ipython3",
   "version": "3.12.8"
  }
 },
 "nbformat": 4,
 "nbformat_minor": 2
}
